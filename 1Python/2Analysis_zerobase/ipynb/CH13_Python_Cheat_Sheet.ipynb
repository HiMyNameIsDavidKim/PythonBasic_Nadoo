{
  "nbformat": 4,
  "nbformat_minor": 0,
  "metadata": {
    "colab": {
      "provenance": []
    },
    "kernelspec": {
      "name": "python3",
      "display_name": "Python 3"
    },
    "language_info": {
      "name": "python"
    }
  },
  "cells": [
    {
      "cell_type": "markdown",
      "source": [
        "### 🔨01.데이터 핸들링\n",
        "---"
      ],
      "metadata": {
        "id": "XhlTO5O01YUs"
      }
    },
    {
      "cell_type": "markdown",
      "source": [
        "#### 01-01.Data 형태 확인"
      ],
      "metadata": {
        "id": "4Ltr5tur2Xii"
      }
    },
    {
      "cell_type": "code",
      "source": [
        "import pandas as pd\n",
        "# Data 형태 확인\n",
        "df.shape\n",
        "\n",
        "# Data type 확인\n",
        "df.info()\n",
        "\n",
        "# Null 값 확인\n",
        "df.isnull().sum()"
      ],
      "metadata": {
        "id": "rX0aQfsD18Az"
      },
      "execution_count": null,
      "outputs": []
    },
    {
      "cell_type": "markdown",
      "source": [
        "#### 01-02.Unique한 Value별 카운팅"
      ],
      "metadata": {
        "id": "XUs2z2Po2dWn"
      }
    },
    {
      "cell_type": "code",
      "source": [
        "len(df['col'].unique())\n",
        "\n",
        "df['col'].unique()"
      ],
      "metadata": {
        "id": "LIiQ2oKW3Gox"
      },
      "execution_count": null,
      "outputs": []
    },
    {
      "cell_type": "markdown",
      "source": [
        "#### 01-03.DataFrame 특정값 치환"
      ],
      "metadata": {
        "id": "RJ24ZZjq3LxD"
      }
    },
    {
      "cell_type": "code",
      "source": [
        "import numpy as np\n",
        "import pandas as pd\n",
        "df.replace(-200, np.NaN)"
      ],
      "metadata": {
        "id": "cnDx8Snr31Ed"
      },
      "execution_count": null,
      "outputs": []
    },
    {
      "cell_type": "markdown",
      "source": [
        "#### 01-04.Null 값 이전 값으로 채워넣기"
      ],
      "metadata": {
        "id": "Sb6c91yw4L2A"
      }
    },
    {
      "cell_type": "code",
      "source": [
        "import numpy as np\n",
        "df.fillna(method='ffill')"
      ],
      "metadata": {
        "id": "8Er8m-ty4PU4"
      },
      "execution_count": null,
      "outputs": []
    },
    {
      "cell_type": "markdown",
      "source": [
        "#### 01-05.DataFrame 특정 col만 가져오기"
      ],
      "metadata": {
        "id": "en8hhEBT5JuY"
      }
    },
    {
      "cell_type": "code",
      "source": [
        "import pandas as pd\n",
        "df = df[['col1', 'col2']]"
      ],
      "metadata": {
        "id": "_ko0MM8P5HzL"
      },
      "execution_count": null,
      "outputs": []
    },
    {
      "cell_type": "markdown",
      "source": [
        "#### 01-06.조건에 맞는 DataFrame 출력"
      ],
      "metadata": {
        "id": "_WWEgwn-5nm0"
      }
    },
    {
      "cell_type": "code",
      "source": [
        "import pandas as pd\n",
        "df[ (df['T'] >= 25) & (df['T'] <= 27) ]"
      ],
      "metadata": {
        "id": "UxKm7u3I5pbW"
      },
      "execution_count": null,
      "outputs": []
    },
    {
      "cell_type": "markdown",
      "source": [
        "#### 01-07.오름차순, 내림차순 정렬"
      ],
      "metadata": {
        "id": "nvS0-ZlF50Rq"
      }
    },
    {
      "cell_type": "code",
      "source": [
        "import pandas as pd\n",
        "# ascending = False(내림차순), default(오름차순)\n",
        "df['col'].sort_values(ascending=False)"
      ],
      "metadata": {
        "id": "PZ72viDw52rY"
      },
      "execution_count": null,
      "outputs": []
    },
    {
      "cell_type": "markdown",
      "source": [
        "#### 01-08.특정값이 포함된 Data 찾기"
      ],
      "metadata": {
        "id": "y-aj88zP5_ZA"
      }
    },
    {
      "cell_type": "code",
      "source": [
        "df[df['col'].astype(str).str.contains('text')]"
      ],
      "metadata": {
        "id": "CrlVCicy6As4"
      },
      "execution_count": null,
      "outputs": []
    },
    {
      "cell_type": "markdown",
      "source": [
        "#### 01-09.특정 조건 만족하는 값, 변경하기"
      ],
      "metadata": {
        "id": "sjXnAQb-6FDh"
      }
    },
    {
      "cell_type": "code",
      "source": [
        "import numpy as np\n",
        "np.where(df['col'] <= 5, 1, 0)"
      ],
      "metadata": {
        "id": "cIgPCy9V6Hx3"
      },
      "execution_count": null,
      "outputs": []
    },
    {
      "cell_type": "markdown",
      "source": [
        "#### 01-10.groupby 활용 카운팅"
      ],
      "metadata": {
        "id": "0J0C9-TR6ZRR"
      }
    },
    {
      "cell_type": "code",
      "source": [
        "import numpy as np\n",
        "import pandas as pd\n",
        "df['y'].groupby(df['job']).value_counts()"
      ],
      "metadata": {
        "id": "byAJgcI96Zho"
      },
      "execution_count": null,
      "outputs": []
    },
    {
      "cell_type": "markdown",
      "source": [
        "#### 01-11.pivot table 활용 데이터 처리"
      ],
      "metadata": {
        "id": "5QOXuBl06g0Y"
      }
    },
    {
      "cell_type": "code",
      "source": [
        "import pandas as pd\n",
        "df_job = pd.pivot_table(df_job,          # 피벗할 데이터프레임\n",
        "                     index = 'index',    # 행 위치에 들어갈 열\n",
        "                     columns = 'col',    # 열 위치에 들어갈 열\n",
        "                     values = 'value')   # 데이터로 사용할 열"
      ],
      "metadata": {
        "id": "jLxmC7QG6iGg"
      },
      "execution_count": null,
      "outputs": []
    },
    {
      "cell_type": "markdown",
      "source": [
        "#### 01-12.inf(무한대) 데이터 null 처리"
      ],
      "metadata": {
        "id": "cigYH-8L6jg3"
      }
    },
    {
      "cell_type": "code",
      "source": [
        "import numpy as np\n",
        "import pandas as pd\n",
        "\n",
        "df['col'].replace([np.inf, -np.inf], np.nan)"
      ],
      "metadata": {
        "id": "N6UqrYPS6o2X"
      },
      "execution_count": null,
      "outputs": []
    },
    {
      "cell_type": "markdown",
      "source": [
        "#### 01-13.lag 데이터 생성"
      ],
      "metadata": {
        "id": "Z7ncGeHT6qJ4"
      }
    },
    {
      "cell_type": "code",
      "source": [
        "import numpy as np\n",
        "import pandas as pd\n",
        "# + n : 순방향, - n : 역방향\n",
        "df['col'].shift(1)"
      ],
      "metadata": {
        "id": "KmFEAsfq6yFf"
      },
      "execution_count": null,
      "outputs": []
    },
    {
      "cell_type": "markdown",
      "source": [
        "#### 01-14.중복 데이터 처리"
      ],
      "metadata": {
        "id": "qvFbM_NP6zh2"
      }
    },
    {
      "cell_type": "code",
      "source": [
        "import numpy as np\n",
        "import pandas as pd\n",
        "\n",
        "df.drop_duplicates(['col'], keep = 'first', inplace=True)"
      ],
      "metadata": {
        "id": "4NTEHLmQ7F8I"
      },
      "execution_count": null,
      "outputs": []
    },
    {
      "cell_type": "markdown",
      "source": [
        "#### 01-15.문자열 데이터 앞 공백 제거"
      ],
      "metadata": {
        "id": "FaeLVOIY7MGg"
      }
    },
    {
      "cell_type": "code",
      "source": [
        "import numpy as np\n",
        "import pandas as pd\n",
        "\n",
        "df['col'].str.lstrip()"
      ],
      "metadata": {
        "id": "dVCEldiG7NCO"
      },
      "execution_count": null,
      "outputs": []
    },
    {
      "cell_type": "markdown",
      "source": [
        "#### 01-15.날짜 데이터 형식 변경"
      ],
      "metadata": {
        "id": "_IMptug2Bhcv"
      }
    },
    {
      "cell_type": "code",
      "source": [
        "import datetime\n",
        "df[\"Date\"].dt.strftime(\"%Y-%m\")"
      ],
      "metadata": {
        "id": "tmS4kkboBjVX"
      },
      "execution_count": null,
      "outputs": []
    },
    {
      "cell_type": "markdown",
      "source": [
        "#### 01-16.list 중복 없애기"
      ],
      "metadata": {
        "id": "qvJC6T1pBrmW"
      }
    },
    {
      "cell_type": "code",
      "source": [
        "import pandas as pd\n",
        "all_list = list(df['start']) + list(df['end'])\n",
        "unique_list = set(all_list)"
      ],
      "metadata": {
        "id": "FqKdJSP7BtDv"
      },
      "execution_count": null,
      "outputs": []
    },
    {
      "cell_type": "markdown",
      "source": [
        "### 📈02.데이터 시각화\n",
        "---"
      ],
      "metadata": {
        "id": "cjfVKsqgBvA3"
      }
    },
    {
      "cell_type": "markdown",
      "source": [
        "#### 02-01.Numeric(연속형) 변수 분포 확인"
      ],
      "metadata": {
        "id": "gVkV_pczBxkw"
      }
    },
    {
      "cell_type": "code",
      "source": [
        "import matplotlib.pyplot as plt\n",
        "import seaborn as sns\n",
        "%matplotlib inline\n",
        "plt.style.use(['dark_background'])\n",
        "\n",
        "# displot 활용 분포 그리기\n",
        "sns.displot(df['col']);\n",
        "\n",
        "# 분포의 평균도 같이 출력\n",
        "print(\"col :\", df['col'].mean())"
      ],
      "metadata": {
        "id": "1J86f_fQC7Ic"
      },
      "execution_count": null,
      "outputs": []
    },
    {
      "cell_type": "markdown",
      "source": [
        "#### 02-02.Plot size 조절"
      ],
      "metadata": {
        "id": "N0g_jrl7FizF"
      }
    },
    {
      "cell_type": "code",
      "source": [
        "import matplotlib.pyplot as plt\n",
        "# (20, 5) → 가로 inch, 세로 inch\n",
        "plt.gcf().set_size_inches(20, 5)"
      ],
      "metadata": {
        "id": "w1sdL5U8Fi-G"
      },
      "execution_count": null,
      "outputs": []
    },
    {
      "cell_type": "markdown",
      "source": [
        "#### 02-03.산점도(Scatter plot) 그리기"
      ],
      "metadata": {
        "id": "btOi4Cog_ojU"
      }
    },
    {
      "cell_type": "code",
      "source": [
        "import seaborn as sns\n",
        "# x(가로), y(세로), hue(구분자)\n",
        "sns.scatterplot(x=df['x'], y=df['y'], hue = df['hue'], data=df)"
      ],
      "metadata": {
        "id": "J6j0Kr2M_qjO"
      },
      "execution_count": null,
      "outputs": []
    },
    {
      "cell_type": "markdown",
      "source": [
        "#### 02-04.기본 line plot 그리기"
      ],
      "metadata": {
        "id": "qrk_tZJK_xF5"
      }
    },
    {
      "cell_type": "code",
      "source": [
        "import matplotlib.pyplot as plt\n",
        "plt.plot(df['x'], df['y'], label='label')"
      ],
      "metadata": {
        "id": "wKhVYoy7_zxm"
      },
      "execution_count": null,
      "outputs": []
    },
    {
      "cell_type": "markdown",
      "source": [
        "#### 02-05.for문 활용 distplot 다중 출력"
      ],
      "metadata": {
        "id": "ouedDzLG_00P"
      }
    },
    {
      "cell_type": "code",
      "source": [
        "import matplotlib.pyplot as plt\n",
        "\n",
        "# 데이터에 i번째 데이터부터 출력\n",
        "for i in range(1,13):\n",
        "    plt.subplot(3,4,i)\n",
        "    plt.grid(False)\n",
        "    sns.distplot(df.iloc[:,i])\n",
        "\n",
        "plt.gcf().set_size_inches(20, 10)\n",
        "plt.tight_layout()\n",
        "plt.show()"
      ],
      "metadata": {
        "id": "KeZLku7bIMv1"
      },
      "execution_count": null,
      "outputs": []
    },
    {
      "cell_type": "markdown",
      "source": [
        "#### 02-06.이중 축 그래프 그리기"
      ],
      "metadata": {
        "id": "2j71UGxBIOPv"
      }
    },
    {
      "cell_type": "code",
      "source": [
        "import matplotlib.pyplot as plt\n",
        "\n",
        "fig, ax1 = plt.subplots()\n",
        "ax1.plot(df['x'], df['y'], color='green', label='label1')\n",
        "\n",
        "ax2 = ax1.twinx()\n",
        "ax2.plot(df['x'], df['y'], color='deeppink', label='label2')\n",
        "\n",
        "fig.legend()\n",
        "plt.gcf().set_size_inches(25, 5)\n",
        "plt.show()"
      ],
      "metadata": {
        "id": "GDovMCquITdD"
      },
      "execution_count": null,
      "outputs": []
    },
    {
      "cell_type": "markdown",
      "source": [
        "#### 02-07.pairplot 상관관계 분석"
      ],
      "metadata": {
        "id": "6aC9FWnNIVC9"
      }
    },
    {
      "cell_type": "code",
      "source": [
        "import seaborn as sns\n",
        "#  모든 변수 조합에 관한 Scatter plot\n",
        "df_pair = df[['col1', 'col2', 'col3', 'col4']]\n",
        "sns.pairplot(df_pair)\n",
        "plt.show()"
      ],
      "metadata": {
        "id": "Kyx_fdXGIapT"
      },
      "execution_count": null,
      "outputs": []
    },
    {
      "cell_type": "markdown",
      "source": [
        "#### 02-08.Heat map 상관관계 분석"
      ],
      "metadata": {
        "id": "zdjVSO56IbzV"
      }
    },
    {
      "cell_type": "code",
      "source": [
        "import seaborn as sns\n",
        "# 모든 조합, 상관계수 표현\n",
        "df_pair = df[['col1', 'col2', 'col3', 'col4']]\n",
        "sns.heatmap(df_pair.corr(), vmin = -1, vmax = +1, annot = True, cmap = 'coolwarm');"
      ],
      "metadata": {
        "id": "dRkkTfDWIeQb"
      },
      "execution_count": null,
      "outputs": []
    },
    {
      "cell_type": "markdown",
      "source": [
        "#### 02-09.그래프에 수직, 수평선 추가 및 길이 조절"
      ],
      "metadata": {
        "id": "ztEwTW8MIfvy"
      }
    },
    {
      "cell_type": "code",
      "source": [
        "import seaborn as sns\n",
        "import matplotlib.pyplot as plt\n",
        "\n",
        "sns.scatterplot(data=df,x='x',y='y', s=50, linewidth=0);\n",
        "\n",
        "# 수직선 추가\n",
        "plt.vlines(-2, ymin=-2, ymax=2, color='r', linewidth=2);\n",
        "plt.vlines(2, ymin=-2, ymax=2, color='r', linewidth=2);\n",
        "\n",
        "# 수평선 추가\n",
        "plt.hlines(-2, xmin=-2, xmax=2, color='r', linewidth=2);\n",
        "plt.hlines(2, xmin=-2, xmax=2, color='r', linewidth=2);"
      ],
      "metadata": {
        "id": "69DqN45NIkUa"
      },
      "execution_count": null,
      "outputs": []
    },
    {
      "cell_type": "markdown",
      "source": [
        "#### 02-10.catplot 그리기"
      ],
      "metadata": {
        "id": "CbouazHLIrbM"
      }
    },
    {
      "cell_type": "code",
      "source": [
        "import seaborn as sns\n",
        "import matplotlib.pyplot as plt\n",
        "%matplotlib inline\n",
        "plt.style.use(['dark_background'])\n",
        "\n",
        "sns.catplot(x=\"x\", hue=\"y\", kind=\"count\",palette=\"pastel\", edgecolor=\".6\",data=df);\n",
        "plt.gcf().set_size_inches(25, 3)"
      ],
      "metadata": {
        "id": "ZZpEDpkIIveD"
      },
      "execution_count": null,
      "outputs": []
    },
    {
      "cell_type": "markdown",
      "source": [
        "#### 02-11.그래프 특정 값에 색상 입히기"
      ],
      "metadata": {
        "id": "suLnu6EUIw79"
      }
    },
    {
      "cell_type": "code",
      "source": [
        "import numpy as np\n",
        "import matplotlib.pyplot as plt\n",
        "\n",
        "df['vol_color'] = np.where(df['Volume_issue']==1, 'red', 'gray')\n",
        "colors=list(df['vol_color'])\n",
        "print(colors)\n",
        "\n",
        "plt.figure(figsize=(10, 8))\n",
        "\n",
        "plt.subplot(2,1,1)\n",
        "plt.plot(df['Date'], df['Close'], 'o-', ms=1, lw=0.5, label='Close')\n",
        "plt.legend()\n",
        "\n",
        "\n",
        "plt.subplot(2,1,2)\n",
        "plt.bar(df['Date'], df['Volume'], label='volume', color=colors)\n",
        "plt.legend()"
      ],
      "metadata": {
        "id": "Okx-7R-4I_Ay"
      },
      "execution_count": null,
      "outputs": []
    },
    {
      "cell_type": "markdown",
      "source": [
        "#### 02-12.bar plot 그리기"
      ],
      "metadata": {
        "id": "N1-uVrlaJADd"
      }
    },
    {
      "cell_type": "code",
      "source": [
        "# barplot, order 옵션을 활용하여 가독성 Up\n",
        "import matplotlib.pyplot as plt\n",
        "import seaborn as sns\n",
        "%matplotlib inline\n",
        "plt.style.use(['dark_background'])\n",
        "\n",
        "sns.barplot(x='arrival_date_month', y='hotel', hue='arrival_date_year', data = df_reservation,\n",
        "            order = ['01.January', '02.February', '03.March', '04.April', '05.May', '06.June', '07.July', '08.August', '09.September', '10.October', '11.November', '12.December']);\n",
        "plt.gcf().set_size_inches(20, 5);"
      ],
      "metadata": {
        "id": "5834vV1TJKOa"
      },
      "execution_count": null,
      "outputs": []
    },
    {
      "cell_type": "markdown",
      "source": [
        "### 💻03.데이터 분석 및 모델링\n",
        "---"
      ],
      "metadata": {
        "id": "RmBWQhJXJPRJ"
      }
    },
    {
      "cell_type": "markdown",
      "source": [
        "#### 03-01.Train/Test set 분할"
      ],
      "metadata": {
        "id": "CuK_cjz2Kv6T"
      }
    },
    {
      "cell_type": "code",
      "source": [
        "# 모델링을 학습하기 위한 Feature(X)와 Y데이터를 구분하는 단계\n",
        "from sklearn.model_selection import train_test_split\n",
        "from sklearn.ensemble import RandomForestClassifier\n",
        "from sklearn import metrics\n",
        "\n",
        "X=df_merge.drop(['y'], axis=1)\n",
        "Y=df_merge['y']\n",
        "\n",
        "x_train, x_test, y_train, y_test = train_test_split(X, Y, test_size=0.3, stratify=Y)\n",
        "\n",
        "print(x_train.shape)\n",
        "print(y_train.shape)\n",
        "\n",
        "print(x_test.shape)\n",
        "print(y_test.shape)"
      ],
      "metadata": {
        "id": "ny3e1hoFK1fa"
      },
      "execution_count": null,
      "outputs": []
    },
    {
      "cell_type": "markdown",
      "source": [
        "#### 03-02.모델 학습 및 예측"
      ],
      "metadata": {
        "id": "MKk6DsRTLbFG"
      }
    },
    {
      "cell_type": "code",
      "source": [
        "from sklearn.ensemble import RandomForestClassifier\n",
        "\n",
        "# 모델 학습\n",
        "rfc = RandomForestClassifier(random_state=123456)\n",
        "rfc.fit(x_train, y_train)\n",
        "\n",
        "# 예측\n",
        "# 예측은 학습에 사용된 Data와 Test Data 모두 예측하고 평가함(※ 과적합 여부 판별)\n",
        "y_pred_train = rfc.predict(x_train)\n",
        "y_pred_test = rfc.predict(x_test)\n"
      ],
      "metadata": {
        "id": "2T8ZsSGULeIK"
      },
      "execution_count": null,
      "outputs": []
    },
    {
      "cell_type": "markdown",
      "source": [
        "#### 03-03.이진분류 모델 성능 확인"
      ],
      "metadata": {
        "id": "8O8O_nZQLiis"
      }
    },
    {
      "cell_type": "code",
      "source": [
        "from sklearn.metrics import classification_report\n",
        "print(classification_report(y_train, y_pred_train))\n",
        "print(classification_report(y_test, y_pred_test))"
      ],
      "metadata": {
        "id": "eeg0IeZoLmw6"
      },
      "execution_count": null,
      "outputs": []
    },
    {
      "cell_type": "markdown",
      "source": [
        "#### 03-04.하이퍼 파라미터 튜닝"
      ],
      "metadata": {
        "id": "C2gDW0C8LnmU"
      }
    },
    {
      "cell_type": "code",
      "source": [
        "from sklearn.ensemble import RandomForestClassifier\n",
        "from sklearn.model_selection import GridSearchCV\n",
        "\n",
        "params = { 'n_estimators' : [400, 500],\n",
        "           'max_depth' : [6, 8, 10, 12]\n",
        "            }\n",
        "\n",
        "# RandomForestClassifier 객체 생성 후 GridSearchCV 수행\n",
        "rf_clf = RandomForestClassifier(random_state = 123456, n_jobs = -1)\n",
        "grid_cv = GridSearchCV(rf_clf, param_grid = params, cv = 3, n_jobs = -1, scoring='recall')\n",
        "grid_cv.fit(x_train, y_train)\n",
        "\n",
        "print('최적 하이퍼 파라미터: ', grid_cv.best_params_)\n",
        "print('최고 예측 정확도: {:.4f}'.format(grid_cv.best_score_))"
      ],
      "metadata": {
        "id": "u1tGBNXYLwIZ"
      },
      "execution_count": null,
      "outputs": []
    },
    {
      "cell_type": "markdown",
      "source": [
        "#### 03-05.중요 변수 파악(Feature Importance)"
      ],
      "metadata": {
        "id": "wYqiArZTLw-V"
      }
    },
    {
      "cell_type": "code",
      "source": [
        "import matplotlib.pyplot as plt\n",
        "import seaborn as sns\n",
        "%matplotlib inline\n",
        "plt.style.use(['dark_background'])\n",
        "\n",
        "# rfc → 생성한 Model에 name 기재\n",
        "ftr_importances_values = rfc.feature_importances_\n",
        "ftr_importances = pd.Series(ftr_importances_values, index = x_train.columns)\n",
        "ftr_top20 = ftr_importances.sort_values(ascending=False)[:20]\n",
        "\n",
        "plt.figure(figsize=(8,6))\n",
        "plt.title('Feature Importances')\n",
        "sns.barplot(x=ftr_top20, y=ftr_top20.index)\n",
        "plt.show()"
      ],
      "metadata": {
        "id": "S1siEB7IL0Nn"
      },
      "execution_count": null,
      "outputs": []
    },
    {
      "cell_type": "markdown",
      "source": [
        "#### 03-06.모델 Save & Read"
      ],
      "metadata": {
        "id": "ipxVVMizL1Yd"
      }
    },
    {
      "cell_type": "code",
      "source": [
        "import pickle\n",
        "# 모델 저장\n",
        "saved_model = pickle.dumps(model)\n",
        "\n",
        "# 모델 Read\n",
        "model_from_pickle = pickle.loads(saved_model)"
      ],
      "metadata": {
        "id": "UkBjF4mGL4VS"
      },
      "execution_count": null,
      "outputs": []
    },
    {
      "cell_type": "markdown",
      "source": [
        "#### 03-07.상관계수 값 출력"
      ],
      "metadata": {
        "id": "PbjyoyOHL5KF"
      }
    },
    {
      "cell_type": "code",
      "source": [
        "import scipy.stats as stats\n",
        "stats.pearsonr(x=df['x'], y=df['y'])"
      ],
      "metadata": {
        "id": "Q8KMAAGiL9eK"
      },
      "execution_count": null,
      "outputs": []
    },
    {
      "cell_type": "markdown",
      "source": [
        "#### 03-08.Regressor(회귀) 모델 학습 및 평가"
      ],
      "metadata": {
        "id": "WjOqmBZDL-XM"
      }
    },
    {
      "cell_type": "code",
      "source": [
        "# 모델링을 학습하기 위한 Fearue(X)와 Y데이터를 구분하는 단계\n",
        "from sklearn.model_selection import train_test_split\n",
        "from sklearn.ensemble import RandomForestRegressor\n",
        "from sklearn import metrics\n",
        "\n",
        "X=df.drop(['y'], axis=1)\n",
        "Y=df['y']\n",
        "\n",
        "x_train, x_test, y_train, y_test = train_test_split(X, Y, test_size=0.3)\n",
        "\n",
        "print(x_train.shape)\n",
        "print(y_train.shape)\n",
        "\n",
        "print(x_test.shape)\n",
        "print(y_test.shape)\n",
        "\n",
        "# RandomForestRegressor 모델 학습\n",
        "rfr = RandomForestRegressor()\n",
        "rfr.fit(x_train, y_train)\n",
        "\n",
        "# 예측\n",
        "# 예측은 학습에 사용된 Data와 Test Data 모두 예측하고 평가함(※ 과적합 여부 판별)\n",
        "import numpy as np\n",
        "from sklearn.metrics import mean_absolute_error, r2_score\n",
        "y_pred_train = rfr.predict(x_train)\n",
        "y_pred_test = rfr.predict(x_test)\n",
        "\n",
        "\n",
        "mse_train = mean_absolute_error(y_train, y_pred_train)\n",
        "print('mse_train(mse): ', mse_train)\n",
        "rmse_train = (np.sqrt(mse_train))\n",
        "print('rmse_train(rmse): ', rmse_train)\n",
        "r2_train = r2_score(y_train, y_pred_train)\n",
        "print('rmse_train(r2): ', r2_train)\n",
        "print('')\n",
        "mse_test = mean_absolute_error(y_test, y_pred_test)\n",
        "print('mse_test(mse): ', mse_test)\n",
        "rmse_test = (np.sqrt(mse_test))\n",
        "print('rmse_test(rmse): ', rmse_test)\n",
        "r2_test = r2_score(y_test, y_pred_test)\n",
        "print('rmse_test(r2): ', r2_test)"
      ],
      "metadata": {
        "id": "RIL8BqqoMFyc"
      },
      "execution_count": null,
      "outputs": []
    },
    {
      "cell_type": "markdown",
      "source": [
        "#### 03-09.표준화 및 PCA 차원축소"
      ],
      "metadata": {
        "id": "DMUZKUSsMGO6"
      }
    },
    {
      "cell_type": "code",
      "source": [
        "from sklearn.decomposition import PCA\n",
        "from sklearn.preprocessing import StandardScaler\n",
        "\n",
        "x = StandardScaler().fit_transform(x)\n",
        "\n",
        "pca = PCA(n_components = 2)\n",
        "principalComponents = pca.fit_transform(x)\n",
        "principalDf = pd.DataFrame(data = principalComponents\n",
        "             , columns = ['principal component 1', 'principal component 2'])"
      ],
      "metadata": {
        "id": "Mbd_q6MKMKli"
      },
      "execution_count": null,
      "outputs": []
    },
    {
      "cell_type": "markdown",
      "source": [
        "#### 03-10.선형회귀활용 모델링"
      ],
      "metadata": {
        "id": "BW1sLsY3MLZt"
      }
    },
    {
      "cell_type": "code",
      "source": [
        "# 모델링을 학습하기 위한 Fearue(X)와 Y데이터를 구분하는 단계\n",
        "from sklearn.model_selection import train_test_split\n",
        "from sklearn import metrics\n",
        "\n",
        "X=df.drop(['y'], axis=1)\n",
        "Y=df['y']\n",
        "\n",
        "x_train, x_test, y_train, y_test = train_test_split(X, Y, test_size=0.3)\n",
        "\n",
        "print(x_train.shape)\n",
        "print(y_train.shape)\n",
        "\n",
        "print(x_test.shape)\n",
        "print(y_test.shape)\n",
        "\n",
        "# LR(선형회귀) 모델 활용\n",
        "from sklearn.linear_model import LinearRegression\n",
        "mlr = LinearRegression()\n",
        "mlr.fit(x_train, y_train)\n",
        "\n",
        "# 예측\n",
        "# 예측은 학습에 사용된 Data와 Test Data 모두 예측하고 평가함(※ 과적합 여부 판별)\n",
        "import numpy as np\n",
        "from sklearn.metrics import mean_absolute_error, r2_score\n",
        "y_pred_train = mlr.predict(x_train)\n",
        "y_pred_test = mlr.predict(x_test)\n",
        "\n",
        "# 평가\n",
        "mse_train = mean_absolute_error(y_train, y_pred_train)\n",
        "print('mse_train(mse): ', mse_train)\n",
        "rmse_train = (np.sqrt(mse_train))\n",
        "print('rmse_train(rmse): ', rmse_train)\n",
        "r2_train = r2_score(y_train, y_pred_train)\n",
        "print('rmse_train(r2): ', r2_train)\n",
        "print('')\n",
        "mse_test = mean_absolute_error(y_test, y_pred_test)\n",
        "print('mse_test(mse): ', mse_test)\n",
        "rmse_test = (np.sqrt(mse_test))\n",
        "print('rmse_test(rmse): ', rmse_test)\n",
        "r2_test = r2_score(y_test, y_pred_test)\n",
        "print('rmse_test(r2): ', r2_test)"
      ],
      "metadata": {
        "id": "nVMxBNk6MSK5"
      },
      "execution_count": null,
      "outputs": []
    },
    {
      "cell_type": "markdown",
      "source": [
        "#### 03-11.선형회귀 상관계수 확인"
      ],
      "metadata": {
        "id": "CmTk1u0pMS9l"
      }
    },
    {
      "cell_type": "code",
      "source": [
        "df_coef = pd.DataFrame({'col':X.columns, 'coef':mlr.coef_}).reset_index(drop=True)\n",
        "df_coef"
      ],
      "metadata": {
        "id": "lCB8UiPIMVsi"
      },
      "execution_count": null,
      "outputs": []
    },
    {
      "cell_type": "markdown",
      "source": [
        "#### 03-12.light gbm 활용 모델링"
      ],
      "metadata": {
        "id": "29AbwZcHMYnr"
      }
    },
    {
      "cell_type": "code",
      "source": [
        "# ▶ 모델링을 학습하기 위한 Fearue(X)와 Y데이터를 구분하는 단계\n",
        "import lightgbm as lgb\n",
        "import numpy as np\n",
        "from sklearn.model_selection import train_test_split\n",
        "\n",
        "# 데이터 세트로드\n",
        "X = df.drop(['y'], axis=1)\n",
        "Y = df['y']\n",
        "\n",
        "# train/test split\n",
        "x_train, x_test, y_train, y_test = train_test_split (X, Y, test_size = 0.3)\n",
        "\n",
        "# 데이터 세트를 적절한 LGB 형식으로 변환\n",
        "d_train = lgb.Dataset (x_train, label = y_train)\n",
        "\n",
        "# setting the parameters\n",
        "params = {}\n",
        "params [ 'learning_rate'] = 0.02\n",
        "params [ 'boosting_type'] = 'gbdt' # GradientBoostingDecisionTree\n",
        "params['objective'] = 'binary'\n",
        "params [ 'metric' ] = 'binary_logloss' # metric for binary-class\n",
        "params [ 'max_depth'] = 5\n",
        "params [ 'num_leaves' ] = 32\n",
        "params ['seed'] = 23456\n",
        "\n",
        "# 모델 학습\n",
        "clf = lgb.train (params, d_train, 1000) # epocs에서 모델 훈련\n",
        "\n",
        "from sklearn.metrics import classification_report\n",
        "\n",
        "y_pred_train = clf.predict(x_train)\n",
        "for i in range(0,len(y_pred_train)):\n",
        "    if y_pred_train[i]>=.5:       # setting threshold to .5\n",
        "       y_pred_train[i]=1\n",
        "    else:\n",
        "       y_pred_train[i]=0\n",
        "\n",
        "y_pred_test = clf.predict(x_test)\n",
        "for i in range(0,len(y_pred_test)):\n",
        "    if y_pred_test[i]>=.5:       # setting threshold to .5\n",
        "       y_pred_test[i]=1\n",
        "    else:\n",
        "       y_pred_test[i]=0\n",
        "\n",
        "print(classification_report(y_train, y_pred_train))\n",
        "print(classification_report(y_test, y_pred_test))"
      ],
      "metadata": {
        "id": "feullEnFMZrq"
      },
      "execution_count": null,
      "outputs": []
    },
    {
      "cell_type": "markdown",
      "source": [
        "#### 03-13.연속형, 범주형 변수 list 나누기"
      ],
      "metadata": {
        "id": "31NXDpmfMawS"
      }
    },
    {
      "cell_type": "code",
      "source": [
        "import numpy as np\n",
        "import pandas as pd\n",
        "#  numeric, categorical value 나누기\n",
        "numeric_list=[]\n",
        "categoical_list=[]\n",
        "\n",
        "for i in df.columns :\n",
        "  if df[i].dtypes == 'O' :\n",
        "    categoical_list.append(i)\n",
        "  else :\n",
        "    numeric_list.append(i)"
      ],
      "metadata": {
        "id": "qkUrKM5YMe9C"
      },
      "execution_count": null,
      "outputs": []
    },
    {
      "cell_type": "markdown",
      "source": [
        "#### 03-14.AUROC score 출력하기"
      ],
      "metadata": {
        "id": "n9tn9gA5MhWs"
      }
    },
    {
      "cell_type": "code",
      "source": [
        "from sklearn.metrics import roc_auc_score\n",
        "\n",
        "y_pred_train_proba = rfc.predict_proba(x_train)[:, 1]\n",
        "y_pred_test_proba = rfc.predict_proba(x_test)[:, 1]\n",
        "\n",
        "\n",
        "roc_score_train = roc_auc_score(y_train, y_pred_train_proba)\n",
        "roc_score_test = roc_auc_score(y_test, y_pred_test_proba)\n",
        "\n",
        "print(\"roc_score_train :\", roc_score_train)\n",
        "print(\"roc_score_test :\", roc_score_test)"
      ],
      "metadata": {
        "id": "jQmo5zQsMjRy"
      },
      "execution_count": null,
      "outputs": []
    },
    {
      "cell_type": "markdown",
      "source": [
        "#### 03-15.Lable encoder 활용 범주형 데이터 처리"
      ],
      "metadata": {
        "id": "9CeD5TgGMmBT"
      }
    },
    {
      "cell_type": "code",
      "source": [
        "from sklearn.preprocessing import LabelEncoder\n",
        "\n",
        "for col in categoical_list:\n",
        "    print(col)\n",
        "    le = LabelEncoder()\n",
        "    le.fit(list(x_train[col].values) + list(x_test[col].values))\n",
        "    x_train[col] = le.transform(x_train[col])\n",
        "    x_test[col] = le.transform(x_test[col])"
      ],
      "metadata": {
        "id": "0Jog0fIxMnY5"
      },
      "execution_count": null,
      "outputs": []
    },
    {
      "cell_type": "markdown",
      "source": [
        "#### 03-16.ROC 커브 그리기"
      ],
      "metadata": {
        "id": "wysdMC-VMqe8"
      }
    },
    {
      "cell_type": "code",
      "source": [
        "from sklearn.metrics import roc_curve\n",
        "def roc_curve_plot(y_test , pred_proba_c1):\n",
        "    # 임곗값에 따른 FPR, TPR 값을 반환 받음.\n",
        "    # FPR : 암환자가 아닌 환자를 암환자라고 잘 못 예측한 비율\n",
        "    # TPR : Recall\n",
        "    fprs , tprs , thresholds = roc_curve(y_test ,pred_proba_c1)\n",
        "\n",
        "    # ROC Curve를 plot 곡선으로 그림.\n",
        "    plt.plot(fprs , tprs, label='ROC')\n",
        "    # 가운데 대각선 직선을 그림.\n",
        "    plt.plot([0, 1], [0, 1], 'k--', label='Random', color='red')\n",
        "\n",
        "    # FPR X 축의 Scale을 0.1 단위로 변경, X,Y 축명 설정등\n",
        "    start, end = plt.xlim()\n",
        "    plt.xticks(np.round(np.arange(start, end, 0.1),2))\n",
        "    plt.xlim(0,1)\n",
        "    plt.ylim(0,1)\n",
        "    plt.xlabel('FPR( 1 - Sensitivity )')\n",
        "    plt.ylabel('TPR( Recall )')\n",
        "    plt.legend()\n",
        "    plt.show()\n",
        "\n",
        "roc_curve_plot(y_test, y_pred_test_proba)"
      ],
      "metadata": {
        "id": "_nHKxFscMrmC"
      },
      "execution_count": null,
      "outputs": []
    },
    {
      "cell_type": "markdown",
      "source": [
        "#### 03-17.min-max scale 활용 정규화"
      ],
      "metadata": {
        "id": "Za64mQ8tMzbT"
      }
    },
    {
      "cell_type": "code",
      "source": [
        "from sklearn.preprocessing import minmax_scale\n",
        "\n",
        "rfm['Recency'] = minmax_scale(rfm['Recency'], axis=0, copy=True)"
      ],
      "metadata": {
        "id": "oG7lLSQrM1WB"
      },
      "execution_count": null,
      "outputs": []
    }
  ]
}